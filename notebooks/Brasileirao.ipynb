{
  "nbformat": 4,
  "nbformat_minor": 0,
  "metadata": {
    "colab": {
      "name": "Brasileirao.ipynb",
      "provenance": [],
      "collapsed_sections": []
    },
    "kernelspec": {
      "name": "python3",
      "display_name": "Python 3"
    },
    "language_info": {
      "name": "python"
    }
  },
  "cells": [
    {
      "cell_type": "markdown",
      "source": [
        "# Explorando o dataset de jogos da série A"
      ],
      "metadata": {
        "id": "USwr6kvjqjVN"
      }
    },
    {
      "cell_type": "code",
      "source": [
        "# montar o drive no colab:\n",
        "from google.colab import drive\n",
        "drive.mount('/content/gdrive')"
      ],
      "metadata": {
        "colab": {
          "base_uri": "https://localhost:8080/"
        },
        "id": "6pcByEm9quCu",
        "outputId": "4e46f767-ef5e-40f7-ebc9-b9dad7c96c8e"
      },
      "execution_count": 1,
      "outputs": [
        {
          "output_type": "stream",
          "name": "stdout",
          "text": [
            "Mounted at /content/gdrive\n"
          ]
        }
      ]
    },
    {
      "cell_type": "code",
      "source": [
        "# instalação do mongodb\n",
        "!apt install mongodb >log\n",
        "!service mongodb start"
      ],
      "metadata": {
        "colab": {
          "base_uri": "https://localhost:8080/"
        },
        "id": "vb87WHrGrOEr",
        "outputId": "2c7d1e21-2f4a-4d87-be39-2a677a7b11e2"
      },
      "execution_count": 2,
      "outputs": [
        {
          "output_type": "stream",
          "name": "stdout",
          "text": [
            "\n",
            "WARNING: apt does not have a stable CLI interface. Use with caution in scripts.\n",
            "\n",
            " * Starting database mongodb\n",
            "   ...done.\n"
          ]
        }
      ]
    },
    {
      "cell_type": "code",
      "source": [
        "# baixar csv do github e salvar na pasta data\n",
        "!wget -O /content/gdrive/MyDrive/data/rodadas.csv https://raw.githubusercontent.com/fscheidt/iotdb-21/master/dataset/brasileirao/rodadas_raw.csv\n",
        "!wget -O /content/gdrive/MyDrive/data/estats.csv https://raw.githubusercontent.com/fscheidt/iotdb-21/master/dataset/brasileirao/estats_raw.csv\n"
      ],
      "metadata": {
        "colab": {
          "base_uri": "https://localhost:8080/"
        },
        "id": "W2__fcaGrWFj",
        "outputId": "fd428f38-7bb0-4cb3-e947-c04ea9ad500f"
      },
      "execution_count": 3,
      "outputs": [
        {
          "output_type": "stream",
          "name": "stdout",
          "text": [
            "--2021-12-18 03:58:18--  https://raw.githubusercontent.com/fscheidt/iotdb-21/master/dataset/brasileirao/rodadas_raw.csv\n",
            "Resolving raw.githubusercontent.com (raw.githubusercontent.com)... 185.199.108.133, 185.199.109.133, 185.199.110.133, ...\n",
            "Connecting to raw.githubusercontent.com (raw.githubusercontent.com)|185.199.108.133|:443... connected.\n",
            "HTTP request sent, awaiting response... 200 OK\n",
            "Length: 750734 (733K) [text/plain]\n",
            "Saving to: ‘/content/gdrive/MyDrive/data/rodadas.csv’\n",
            "\n",
            "/content/gdrive/MyD 100%[===================>] 733.14K  --.-KB/s    in 0.05s   \n",
            "\n",
            "2021-12-18 03:58:18 (15.4 MB/s) - ‘/content/gdrive/MyDrive/data/rodadas.csv’ saved [750734/750734]\n",
            "\n",
            "--2021-12-18 03:58:18--  https://raw.githubusercontent.com/fscheidt/iotdb-21/master/dataset/brasileirao/estats_raw.csv\n",
            "Resolving raw.githubusercontent.com (raw.githubusercontent.com)... 185.199.108.133, 185.199.110.133, 185.199.109.133, ...\n",
            "Connecting to raw.githubusercontent.com (raw.githubusercontent.com)|185.199.108.133|:443... connected.\n",
            "HTTP request sent, awaiting response... 200 OK\n",
            "Length: 164132 (160K) [text/plain]\n",
            "Saving to: ‘/content/gdrive/MyDrive/data/estats.csv’\n",
            "\n",
            "/content/gdrive/MyD 100%[===================>] 160.29K  --.-KB/s    in 0.02s   \n",
            "\n",
            "2021-12-18 03:58:19 (6.70 MB/s) - ‘/content/gdrive/MyDrive/data/estats.csv’ saved [164132/164132]\n",
            "\n"
          ]
        }
      ]
    },
    {
      "cell_type": "code",
      "source": [
        "!ls /content/gdrive/MyDrive/data/"
      ],
      "metadata": {
        "colab": {
          "base_uri": "https://localhost:8080/"
        },
        "id": "CfXVpAOVsL_c",
        "outputId": "ca0e0620-e685-4f1f-fa52-29deda59d53d"
      },
      "execution_count": 5,
      "outputs": [
        {
          "output_type": "stream",
          "name": "stdout",
          "text": [
            "books.json  estats.csv\tiot_telemetry.csv  rodadas.csv\n"
          ]
        }
      ]
    },
    {
      "cell_type": "markdown",
      "source": [
        "## Arquivo rodadas.csv\n",
        "- ID - ID da partida\n",
        "- Rodada : Rodada que aconteceu a partida\n",
        "- Data : Data que ocorreu a partida\n",
        "- Horário :  Horário que ocorreu a partida\n",
        "- Dia : Dia da semana que ocorreu a partida\n",
        "- Mandante : Clube mandante                      \n",
        "- Visitante : Clube Visitante                      \n",
        "- Vencedor : Clube vencedor da partida. Quando tiver \"-\", é um empate\n",
        "- Arena : Arena que ocorreu a partida                      \n",
        "- Mandante Placar : Gols que o clube mandante fez na partida                      \n",
        "- Visitante Placar : Gols que o clube visitante fez na partida                      \n",
        "- Estado Mandante : Estado do clube mandatorio                      \n",
        "- Estado Visitante : Estado do clube visitante                      \n",
        "- Estado Vencedor : Estado do clube vencedor. Quando tiver \"-\", é um empate\n"
      ],
      "metadata": {
        "id": "cocIg4GzuItA"
      }
    },
    {
      "cell_type": "code",
      "source": [
        "# inspecionando os dados em rodadas.csv\n",
        "!head /content/gdrive/MyDrive/data/rodadas.csv"
      ],
      "metadata": {
        "colab": {
          "base_uri": "https://localhost:8080/"
        },
        "id": "4VNRkPaasTT1",
        "outputId": "92e220eb-2a6d-46b9-fe34-f9d2d330cd8c"
      },
      "execution_count": 7,
      "outputs": [
        {
          "output_type": "stream",
          "name": "stdout",
          "text": [
            "﻿ID;Rodada;Data;Horário;Dia;Mandante;Visitante;Vencedor;Arena;Mandante Placar;Visitante Placar;Estado Mandante;Estado Visitante;Estado Vencedor\r\n",
            "1;1;2000-07-29;16h00;Sábado;Fluminense;Bahia;Fluminense;Maracanã;2;0;RJ;BA;RJ\r\n",
            "2;1;2000-07-29;16h00;Sábado;Vasco;Sport;Sport;São Januário;0;2;RJ;PE;PE\r\n",
            "3;1;2000-07-29;16h00;Sábado;Vitória;Palmeiras;Vitória;Barradão;4;1;ES;SP;ES\r\n",
            "4;1;2000-07-30;17h00;Domingo;Botafogo-RJ;Atlético-MG;-;Caio Martins;0;0;RJ;MG;-\r\n",
            "5;1;2000-07-30;18h30;Domingo;Juventude;Flamengo;-;Alfredo Jaconi;1;1;RS;RJ;-\r\n",
            "6;1;2000-07-30;16h00;Domingo;Guarani;Santa Cruz;-;Brinco de Ouro;0;0;SP;PE;-\r\n",
            "7;1;2000-07-30;17h00;Domingo;Cruzeiro;Athlético-PR;Athlético-PR;Mineirão;0;2;MG;PR;PR\r\n",
            "8;1;2000-07-30;16h00;Domingo;América-MG;Gama;Gama;Independência;0;1;MG;DF;DF\r\n",
            "9;1;2000-07-30;18h30;Domingo;Goiás;Corinthians;Goiás;Serra Dourada;3;0;GO;SP;GO\r\n"
          ]
        }
      ]
    },
    {
      "cell_type": "markdown",
      "source": [
        "## Arquivo estats.csv\n",
        "- ID - ID da partida\n",
        "- Mandante - 0 == Não (Visitante), 1 == Sim (Mandante)\n",
        "- Chutes - Finalizações\n",
        "- Chutes a gol - Finalizações na direção do gol\n",
        "- Posse de bola - Percentual da posse de bola\n",
        "- Passes - Quantidade de passes que o clube deu na partida\n",
        "- Precisão de Passe - Percentual da precisão de passe\n",
        "- Faltas - Quantidade de faltas cometidas na partida\n",
        "- Cartões Amarelo - Quantidade de cartões amarelos para o clube na partida\n",
        "- Cartões Vermelhos - Quantidade de cartões vermelhos para o clube na partida\n",
        "- Impedimentos - Quantidade de impedimentos para o clube na partida\n",
        "- Escanteios - Quantidade de escanteios para o clube na partida"
      ],
      "metadata": {
        "id": "8YGyUhvOuS-C"
      }
    },
    {
      "cell_type": "code",
      "source": [
        "# inspecionando os dados:\n",
        "!head /content/gdrive/MyDrive/data/estats.csv"
      ],
      "metadata": {
        "colab": {
          "base_uri": "https://localhost:8080/"
        },
        "id": "8h9Rp6xisd-y",
        "outputId": "9c97f3e1-2efb-4f51-d2ad-33a270244194"
      },
      "execution_count": 8,
      "outputs": [
        {
          "output_type": "stream",
          "name": "stdout",
          "text": [
            "﻿ID;Mandante;Chutes;Chutes a gol;Posse de bola;Passes;Precisão de passe;Faltas;Cartões amarelos;Cartões vermelhos;Impedimentos;Escanteios\r\n",
            "6041;1;13;0;45%;326;;20;2;0;3;3\r\n",
            "6041;0;16;0;55%;388;;21;2;0;0;5\r\n",
            "6040;1;17;0;50%;406;;20;2;0;2;11\r\n",
            "6040;0;10;0;50%;426;;14;4;0;4;2\r\n",
            "6042;1;26;11;74%;702;;9;2;0;1;5\r\n",
            "6042;0;3;0;26%;250;;14;0;1;1;3\r\n",
            "6044;1;11;0;45%;401;;17;3;0;2;5\r\n",
            "6044;0;17;0;55%;473;;21;4;1;0;10\r\n",
            "6046;1;10;0;39%;335;;17;1;0;1;2\r\n"
          ]
        }
      ]
    },
    {
      "cell_type": "markdown",
      "source": [
        "## Pre-processamento dos arquivos"
      ],
      "metadata": {
        "id": "HeexkfPLtw2y"
      }
    },
    {
      "cell_type": "code",
      "source": [
        ""
      ],
      "metadata": {
        "id": "RLbA7fdEt2dl"
      },
      "execution_count": null,
      "outputs": []
    },
    {
      "cell_type": "markdown",
      "source": [
        "## Importar arquivos para mongodb"
      ],
      "metadata": {
        "id": "dGXgiaIEtgwO"
      }
    },
    {
      "cell_type": "code",
      "source": [
        ""
      ],
      "metadata": {
        "id": "9ACLtiQWtpMB"
      },
      "execution_count": null,
      "outputs": []
    },
    {
      "cell_type": "markdown",
      "source": [
        "## Atividade\n",
        "\n",
        "Escreva as respectivas queries usando pymongo:"
      ],
      "metadata": {
        "id": "Q9-ETTc_tVBz"
      }
    },
    {
      "cell_type": "code",
      "source": [
        "## Qual o time que mais marcou gols?\n",
        "\n",
        "## Qual o time que mais levou gols?\n",
        "\n",
        "## Qual o time que ganhou mais vezes jogando fora de casa?\n",
        "\n",
        "## Time que mais recebeu cartões vermelhos?\n",
        "\n",
        "## Existe alguma correlação entre chutes a gol e Impedimentos? \n",
        "\n",
        "## Listar os times que participaram do campeonato de 2008.\n",
        "\n",
        "## Quais times foram rebaixados em 2010?\n",
        "\n",
        "## Qual o time que mais ganhou campeonatos?\n",
        "\n",
        "## Qual a média de cartões amarelos por jogo em toda a série histórica?\n",
        "\n",
        "## Qual a média de cartões vermelhos por jogo em toda a série histórica?\n"
      ],
      "metadata": {
        "id": "pClzAfFrslBV"
      },
      "execution_count": 9,
      "outputs": []
    },
    {
      "cell_type": "code",
      "source": [
        ""
      ],
      "metadata": {
        "id": "414X_NvmtTcx"
      },
      "execution_count": null,
      "outputs": []
    }
  ]
}