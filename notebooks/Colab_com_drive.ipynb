{
  "nbformat": 4,
  "nbformat_minor": 0,
  "metadata": {
    "colab": {
      "name": "Colab-com-drive.ipynb",
      "provenance": [],
      "collapsed_sections": []
    },
    "kernelspec": {
      "name": "python3",
      "display_name": "Python 3"
    },
    "language_info": {
      "name": "python"
    }
  },
  "cells": [
    {
      "cell_type": "markdown",
      "source": [
        "# Integração Colab e google Drive\n",
        "Sequência de passos para configurar o Colab para usar uma pasta do google drive e assim garantir que os dados sejam salvos.\n",
        "\n",
        "__Objetivos:__\n",
        "- montar o drive no colab\n",
        "- baixar o arquivo csv do dataset telemetry e salvar numa pasta do drive.\n",
        "- carregar o arquivo no pandas dataframe\n",
        "- visualizar a coluna temperatura num gráfico de linha.\n",
        "\n"
      ],
      "metadata": {
        "id": "PrebMk2w5Rdq"
      }
    },
    {
      "cell_type": "markdown",
      "source": [
        "### Montar Drive na pasta gdrive\n",
        "- montar a pasta do drive no diretório /content/gdrive\n",
        "- vai solicitar várias permissões"
      ],
      "metadata": {
        "id": "KQmMJcsm5qHm"
      }
    },
    {
      "cell_type": "code",
      "execution_count": 8,
      "metadata": {
        "colab": {
          "base_uri": "https://localhost:8080/"
        },
        "id": "MCfusk7d4zIy",
        "outputId": "bd8bfd98-7065-4bc1-dd15-c06ab1a6d0e9"
      },
      "outputs": [
        {
          "output_type": "stream",
          "name": "stdout",
          "text": [
            "Drive already mounted at /content/gdrive; to attempt to forcibly remount, call drive.mount(\"/content/gdrive\", force_remount=True).\n"
          ]
        }
      ],
      "source": [
        "from google.colab import drive\n",
        "drive.mount('/content/gdrive')"
      ]
    },
    {
      "cell_type": "markdown",
      "source": [
        "### Download do dataset telemetry"
      ],
      "metadata": {
        "id": "eqEwzsy776tY"
      }
    },
    {
      "cell_type": "code",
      "source": [
        "# criar a pasta \"data\" no Drive para armazenar o arquivo csv.\n",
        "!mkdir /content/gdrive/MyDrive/data"
      ],
      "metadata": {
        "id": "QriKHFtv7q60"
      },
      "execution_count": 11,
      "outputs": []
    },
    {
      "cell_type": "code",
      "source": [
        "# baixar csv do github e salvar na pasta data\n",
        "!wget -O /content/gdrive/MyDrive/data/iot_telemetry.csv https://raw.githubusercontent.com/fscheidt/iotdb-21/master/dataset/telemetry/iot_telemetry_data.csv"
      ],
      "metadata": {
        "colab": {
          "base_uri": "https://localhost:8080/"
        },
        "id": "F_Yaz217yuKq",
        "outputId": "78f07e43-f498-4169-86f4-59b609996e77"
      },
      "execution_count": 22,
      "outputs": [
        {
          "output_type": "stream",
          "name": "stdout",
          "text": [
            "--2021-12-18 00:59:13--  https://raw.githubusercontent.com/fscheidt/iotdb-21/master/dataset/telemetry/iot_telemetry_data.csv\n",
            "Resolving raw.githubusercontent.com (raw.githubusercontent.com)... 185.199.108.133, 185.199.109.133, 185.199.110.133, ...\n",
            "Connecting to raw.githubusercontent.com (raw.githubusercontent.com)|185.199.108.133|:443... connected.\n",
            "HTTP request sent, awaiting response... 200 OK\n",
            "Length: 61926558 (59M) [text/plain]\n",
            "Saving to: ‘/content/gdrive/MyDrive/data/iot_telemetry.csv’\n",
            "\n",
            "/content/gdrive/MyD 100%[===================>]  59.06M  47.4MB/s    in 1.2s    \n",
            "\n",
            "2021-12-18 00:59:15 (47.4 MB/s) - ‘/content/gdrive/MyDrive/data/iot_telemetry.csv’ saved [61926558/61926558]\n",
            "\n"
          ]
        }
      ]
    },
    {
      "cell_type": "code",
      "source": [
        "# verificar se o arquivo foi baixado:\n",
        "!ls /content/gdrive/MyDrive/data"
      ],
      "metadata": {
        "colab": {
          "base_uri": "https://localhost:8080/"
        },
        "id": "B4E7HQUf46oz",
        "outputId": "7b53fbb5-f558-488a-f226-bacfaa9107e2"
      },
      "execution_count": 33,
      "outputs": [
        {
          "output_type": "stream",
          "name": "stdout",
          "text": [
            "iot_telemetry.csv\n"
          ]
        }
      ]
    },
    {
      "cell_type": "code",
      "source": [
        "import pandas as pd"
      ],
      "metadata": {
        "id": "TS14vPY17g9F"
      },
      "execution_count": 15,
      "outputs": []
    },
    {
      "cell_type": "code",
      "source": [
        "# carrega arquivo csv:\n",
        "df = pd.read_csv(\"/content/gdrive/MyDrive/data/iot_telemetry.csv\")"
      ],
      "metadata": {
        "id": "g7ByQUdh-Yqe"
      },
      "execution_count": 24,
      "outputs": []
    },
    {
      "cell_type": "code",
      "source": [
        "# visualizar as 10 primeiras linhas do dataframe\n",
        "df.head(10)"
      ],
      "metadata": {
        "colab": {
          "base_uri": "https://localhost:8080/",
          "height": 363
        },
        "id": "XV0FDgE4-i8V",
        "outputId": "7669263f-6073-4642-9f9d-1ebb2be67abb"
      },
      "execution_count": 36,
      "outputs": [
        {
          "output_type": "execute_result",
          "data": {
            "text/html": [
              "\n",
              "  <div id=\"df-64e70da7-5edc-4573-87a3-119f6d70547e\">\n",
              "    <div class=\"colab-df-container\">\n",
              "      <div>\n",
              "<style scoped>\n",
              "    .dataframe tbody tr th:only-of-type {\n",
              "        vertical-align: middle;\n",
              "    }\n",
              "\n",
              "    .dataframe tbody tr th {\n",
              "        vertical-align: top;\n",
              "    }\n",
              "\n",
              "    .dataframe thead th {\n",
              "        text-align: right;\n",
              "    }\n",
              "</style>\n",
              "<table border=\"1\" class=\"dataframe\">\n",
              "  <thead>\n",
              "    <tr style=\"text-align: right;\">\n",
              "      <th></th>\n",
              "      <th>ts</th>\n",
              "      <th>device</th>\n",
              "      <th>co</th>\n",
              "      <th>humidity</th>\n",
              "      <th>light</th>\n",
              "      <th>lpg</th>\n",
              "      <th>motion</th>\n",
              "      <th>smoke</th>\n",
              "      <th>temp</th>\n",
              "    </tr>\n",
              "  </thead>\n",
              "  <tbody>\n",
              "    <tr>\n",
              "      <th>0</th>\n",
              "      <td>1.594512e+09</td>\n",
              "      <td>b8:27:eb:bf:9d:51</td>\n",
              "      <td>0.004956</td>\n",
              "      <td>51.000000</td>\n",
              "      <td>False</td>\n",
              "      <td>0.007651</td>\n",
              "      <td>False</td>\n",
              "      <td>0.020411</td>\n",
              "      <td>22.700000</td>\n",
              "    </tr>\n",
              "    <tr>\n",
              "      <th>1</th>\n",
              "      <td>1.594512e+09</td>\n",
              "      <td>00:0f:00:70:91:0a</td>\n",
              "      <td>0.002840</td>\n",
              "      <td>76.000000</td>\n",
              "      <td>False</td>\n",
              "      <td>0.005114</td>\n",
              "      <td>False</td>\n",
              "      <td>0.013275</td>\n",
              "      <td>19.700001</td>\n",
              "    </tr>\n",
              "    <tr>\n",
              "      <th>2</th>\n",
              "      <td>1.594512e+09</td>\n",
              "      <td>b8:27:eb:bf:9d:51</td>\n",
              "      <td>0.004976</td>\n",
              "      <td>50.900000</td>\n",
              "      <td>False</td>\n",
              "      <td>0.007673</td>\n",
              "      <td>False</td>\n",
              "      <td>0.020475</td>\n",
              "      <td>22.600000</td>\n",
              "    </tr>\n",
              "    <tr>\n",
              "      <th>3</th>\n",
              "      <td>1.594512e+09</td>\n",
              "      <td>1c:bf:ce:15:ec:4d</td>\n",
              "      <td>0.004403</td>\n",
              "      <td>76.800003</td>\n",
              "      <td>True</td>\n",
              "      <td>0.007023</td>\n",
              "      <td>False</td>\n",
              "      <td>0.018628</td>\n",
              "      <td>27.000000</td>\n",
              "    </tr>\n",
              "    <tr>\n",
              "      <th>4</th>\n",
              "      <td>1.594512e+09</td>\n",
              "      <td>b8:27:eb:bf:9d:51</td>\n",
              "      <td>0.004967</td>\n",
              "      <td>50.900000</td>\n",
              "      <td>False</td>\n",
              "      <td>0.007664</td>\n",
              "      <td>False</td>\n",
              "      <td>0.020448</td>\n",
              "      <td>22.600000</td>\n",
              "    </tr>\n",
              "    <tr>\n",
              "      <th>5</th>\n",
              "      <td>1.594512e+09</td>\n",
              "      <td>1c:bf:ce:15:ec:4d</td>\n",
              "      <td>0.004391</td>\n",
              "      <td>77.900002</td>\n",
              "      <td>True</td>\n",
              "      <td>0.007009</td>\n",
              "      <td>False</td>\n",
              "      <td>0.018589</td>\n",
              "      <td>27.000000</td>\n",
              "    </tr>\n",
              "    <tr>\n",
              "      <th>6</th>\n",
              "      <td>1.594512e+09</td>\n",
              "      <td>b8:27:eb:bf:9d:51</td>\n",
              "      <td>0.004976</td>\n",
              "      <td>50.900000</td>\n",
              "      <td>False</td>\n",
              "      <td>0.007673</td>\n",
              "      <td>False</td>\n",
              "      <td>0.020475</td>\n",
              "      <td>22.600000</td>\n",
              "    </tr>\n",
              "    <tr>\n",
              "      <th>7</th>\n",
              "      <td>1.594512e+09</td>\n",
              "      <td>00:0f:00:70:91:0a</td>\n",
              "      <td>0.002938</td>\n",
              "      <td>76.000000</td>\n",
              "      <td>False</td>\n",
              "      <td>0.005241</td>\n",
              "      <td>False</td>\n",
              "      <td>0.013628</td>\n",
              "      <td>19.700001</td>\n",
              "    </tr>\n",
              "    <tr>\n",
              "      <th>8</th>\n",
              "      <td>1.594512e+09</td>\n",
              "      <td>1c:bf:ce:15:ec:4d</td>\n",
              "      <td>0.004345</td>\n",
              "      <td>77.900002</td>\n",
              "      <td>True</td>\n",
              "      <td>0.006957</td>\n",
              "      <td>False</td>\n",
              "      <td>0.018440</td>\n",
              "      <td>27.000000</td>\n",
              "    </tr>\n",
              "    <tr>\n",
              "      <th>9</th>\n",
              "      <td>1.594512e+09</td>\n",
              "      <td>b8:27:eb:bf:9d:51</td>\n",
              "      <td>0.004970</td>\n",
              "      <td>50.900000</td>\n",
              "      <td>False</td>\n",
              "      <td>0.007667</td>\n",
              "      <td>False</td>\n",
              "      <td>0.020457</td>\n",
              "      <td>22.600000</td>\n",
              "    </tr>\n",
              "  </tbody>\n",
              "</table>\n",
              "</div>\n",
              "      <button class=\"colab-df-convert\" onclick=\"convertToInteractive('df-64e70da7-5edc-4573-87a3-119f6d70547e')\"\n",
              "              title=\"Convert this dataframe to an interactive table.\"\n",
              "              style=\"display:none;\">\n",
              "        \n",
              "  <svg xmlns=\"http://www.w3.org/2000/svg\" height=\"24px\"viewBox=\"0 0 24 24\"\n",
              "       width=\"24px\">\n",
              "    <path d=\"M0 0h24v24H0V0z\" fill=\"none\"/>\n",
              "    <path d=\"M18.56 5.44l.94 2.06.94-2.06 2.06-.94-2.06-.94-.94-2.06-.94 2.06-2.06.94zm-11 1L8.5 8.5l.94-2.06 2.06-.94-2.06-.94L8.5 2.5l-.94 2.06-2.06.94zm10 10l.94 2.06.94-2.06 2.06-.94-2.06-.94-.94-2.06-.94 2.06-2.06.94z\"/><path d=\"M17.41 7.96l-1.37-1.37c-.4-.4-.92-.59-1.43-.59-.52 0-1.04.2-1.43.59L10.3 9.45l-7.72 7.72c-.78.78-.78 2.05 0 2.83L4 21.41c.39.39.9.59 1.41.59.51 0 1.02-.2 1.41-.59l7.78-7.78 2.81-2.81c.8-.78.8-2.07 0-2.86zM5.41 20L4 18.59l7.72-7.72 1.47 1.35L5.41 20z\"/>\n",
              "  </svg>\n",
              "      </button>\n",
              "      \n",
              "  <style>\n",
              "    .colab-df-container {\n",
              "      display:flex;\n",
              "      flex-wrap:wrap;\n",
              "      gap: 12px;\n",
              "    }\n",
              "\n",
              "    .colab-df-convert {\n",
              "      background-color: #E8F0FE;\n",
              "      border: none;\n",
              "      border-radius: 50%;\n",
              "      cursor: pointer;\n",
              "      display: none;\n",
              "      fill: #1967D2;\n",
              "      height: 32px;\n",
              "      padding: 0 0 0 0;\n",
              "      width: 32px;\n",
              "    }\n",
              "\n",
              "    .colab-df-convert:hover {\n",
              "      background-color: #E2EBFA;\n",
              "      box-shadow: 0px 1px 2px rgba(60, 64, 67, 0.3), 0px 1px 3px 1px rgba(60, 64, 67, 0.15);\n",
              "      fill: #174EA6;\n",
              "    }\n",
              "\n",
              "    [theme=dark] .colab-df-convert {\n",
              "      background-color: #3B4455;\n",
              "      fill: #D2E3FC;\n",
              "    }\n",
              "\n",
              "    [theme=dark] .colab-df-convert:hover {\n",
              "      background-color: #434B5C;\n",
              "      box-shadow: 0px 1px 3px 1px rgba(0, 0, 0, 0.15);\n",
              "      filter: drop-shadow(0px 1px 2px rgba(0, 0, 0, 0.3));\n",
              "      fill: #FFFFFF;\n",
              "    }\n",
              "  </style>\n",
              "\n",
              "      <script>\n",
              "        const buttonEl =\n",
              "          document.querySelector('#df-64e70da7-5edc-4573-87a3-119f6d70547e button.colab-df-convert');\n",
              "        buttonEl.style.display =\n",
              "          google.colab.kernel.accessAllowed ? 'block' : 'none';\n",
              "\n",
              "        async function convertToInteractive(key) {\n",
              "          const element = document.querySelector('#df-64e70da7-5edc-4573-87a3-119f6d70547e');\n",
              "          const dataTable =\n",
              "            await google.colab.kernel.invokeFunction('convertToInteractive',\n",
              "                                                     [key], {});\n",
              "          if (!dataTable) return;\n",
              "\n",
              "          const docLinkHtml = 'Like what you see? Visit the ' +\n",
              "            '<a target=\"_blank\" href=https://colab.research.google.com/notebooks/data_table.ipynb>data table notebook</a>'\n",
              "            + ' to learn more about interactive tables.';\n",
              "          element.innerHTML = '';\n",
              "          dataTable['output_type'] = 'display_data';\n",
              "          await google.colab.output.renderOutput(dataTable, element);\n",
              "          const docLink = document.createElement('div');\n",
              "          docLink.innerHTML = docLinkHtml;\n",
              "          element.appendChild(docLink);\n",
              "        }\n",
              "      </script>\n",
              "    </div>\n",
              "  </div>\n",
              "  "
            ],
            "text/plain": [
              "             ts             device        co  ...  motion     smoke       temp\n",
              "0  1.594512e+09  b8:27:eb:bf:9d:51  0.004956  ...   False  0.020411  22.700000\n",
              "1  1.594512e+09  00:0f:00:70:91:0a  0.002840  ...   False  0.013275  19.700001\n",
              "2  1.594512e+09  b8:27:eb:bf:9d:51  0.004976  ...   False  0.020475  22.600000\n",
              "3  1.594512e+09  1c:bf:ce:15:ec:4d  0.004403  ...   False  0.018628  27.000000\n",
              "4  1.594512e+09  b8:27:eb:bf:9d:51  0.004967  ...   False  0.020448  22.600000\n",
              "5  1.594512e+09  1c:bf:ce:15:ec:4d  0.004391  ...   False  0.018589  27.000000\n",
              "6  1.594512e+09  b8:27:eb:bf:9d:51  0.004976  ...   False  0.020475  22.600000\n",
              "7  1.594512e+09  00:0f:00:70:91:0a  0.002938  ...   False  0.013628  19.700001\n",
              "8  1.594512e+09  1c:bf:ce:15:ec:4d  0.004345  ...   False  0.018440  27.000000\n",
              "9  1.594512e+09  b8:27:eb:bf:9d:51  0.004970  ...   False  0.020457  22.600000\n",
              "\n",
              "[10 rows x 9 columns]"
            ]
          },
          "metadata": {},
          "execution_count": 36
        }
      ]
    },
    {
      "cell_type": "code",
      "source": [
        "# quantas linhas e colunas há nesse dataset?\n",
        "df.shape"
      ],
      "metadata": {
        "colab": {
          "base_uri": "https://localhost:8080/"
        },
        "id": "ASBaSKmnD5ON",
        "outputId": "635da293-56b6-4f74-ca73-ef8b691e5ed1"
      },
      "execution_count": 29,
      "outputs": [
        {
          "output_type": "execute_result",
          "data": {
            "text/plain": [
              "(405184, 9)"
            ]
          },
          "metadata": {},
          "execution_count": 29
        }
      ]
    },
    {
      "cell_type": "code",
      "source": [
        "# Qual a temperatura máxima registrada pelo sensor?\n",
        "df['temp'].max()"
      ],
      "metadata": {
        "colab": {
          "base_uri": "https://localhost:8080/"
        },
        "id": "cS6hYnw497kl",
        "outputId": "e0cf9567-5e04-40f2-f49b-2b4c24c48569"
      },
      "execution_count": 37,
      "outputs": [
        {
          "output_type": "execute_result",
          "data": {
            "text/plain": [
              "30.60000038146973"
            ]
          },
          "metadata": {},
          "execution_count": 37
        }
      ]
    },
    {
      "cell_type": "code",
      "source": [
        "# plotagem da temperatura\n",
        "import matplotlib.pyplot as plt\n",
        "plt.plot(df['temp'][:100])"
      ],
      "metadata": {
        "colab": {
          "base_uri": "https://localhost:8080/",
          "height": 283
        },
        "id": "6wBWZ5lv93wm",
        "outputId": "74cebf35-4571-4d34-cbdf-38ea182e653e"
      },
      "execution_count": 28,
      "outputs": [
        {
          "output_type": "execute_result",
          "data": {
            "text/plain": [
              "[<matplotlib.lines.Line2D at 0x7f5e9c084e10>]"
            ]
          },
          "metadata": {},
          "execution_count": 28
        },
        {
          "output_type": "display_data",
          "data": {
            "image/png": "[encoded data removed]",
            "text/plain": [
              "<Figure size 432x288 with 1 Axes>"
            ]
          },
          "metadata": {
            "needs_background": "light"
          }
        }
      ]
    }
  ]
}